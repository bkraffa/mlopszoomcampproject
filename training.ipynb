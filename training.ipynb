{
 "cells": [
  {
   "cell_type": "code",
   "execution_count": 1,
   "metadata": {},
   "outputs": [],
   "source": [
    "import s3fs\n",
    "import pandas as pd\n",
    "import mlflow\n",
    "import joblib\n",
    "from geopy.distance import great_circle\n",
    "from sklearn.feature_extraction import DictVectorizer\n",
    "from sklearn.model_selection import train_test_split\n",
    "from sklearn.linear_model import Ridge\n",
    "from sklearn.metrics import mean_squared_error\n",
    "\n",
    "df = pd.read_parquet('s3://chicago-bike-trips/dataset.parquet')"
   ]
  },
  {
   "cell_type": "code",
   "execution_count": 2,
   "metadata": {},
   "outputs": [
    {
     "name": "stderr",
     "output_type": "stream",
     "text": [
      "2023/07/13 00:17:23 INFO mlflow.tracking.fluent: Experiment with name 'chicago-bike-share' does not exist. Creating a new experiment.\n"
     ]
    },
    {
     "data": {
      "text/plain": [
       "<Experiment: artifact_location='s3://mlflow-models-bruno/1', creation_time=1689207443833, experiment_id='1', last_update_time=1689207443833, lifecycle_stage='active', name='chicago-bike-share', tags={}>"
      ]
     },
     "execution_count": 2,
     "metadata": {},
     "output_type": "execute_result"
    }
   ],
   "source": [
    "TRACKING_SERVER_HOST = \"ec2-18-117-176-70.us-east-2.compute.amazonaws.com\" #change if ec2 instance is reinitiated\n",
    "mlflow.set_tracking_uri(f\"http://{TRACKING_SERVER_HOST}:5000\")\n",
    "mlflow.set_experiment(\"chicago-bike-share\")"
   ]
  },
  {
   "cell_type": "code",
   "execution_count": 3,
   "metadata": {},
   "outputs": [
    {
     "name": "stderr",
     "output_type": "stream",
     "text": [
      "/tmp/ipykernel_10352/1026509609.py:10: SettingWithCopyWarning: \n",
      "A value is trying to be set on a copy of a slice from a DataFrame.\n",
      "Try using .loc[row_indexer,col_indexer] = value instead\n",
      "\n",
      "See the caveats in the documentation: https://pandas.pydata.org/pandas-docs/stable/user_guide/indexing.html#returning-a-view-versus-a-copy\n",
      "  df['distance'] = df.apply(lambda row: distance_calc (row),axis=1)\n",
      "/tmp/ipykernel_10352/1026509609.py:13: SettingWithCopyWarning: \n",
      "A value is trying to be set on a copy of a slice from a DataFrame\n",
      "\n",
      "See the caveats in the documentation: https://pandas.pydata.org/pandas-docs/stable/user_guide/indexing.html#returning-a-view-versus-a-copy\n",
      "  df.drop(columns=columns, inplace=True)\n"
     ]
    }
   ],
   "source": [
    "def distance_calc (row):\n",
    "    start = (row['start_lat'], row['start_lng'])\n",
    "    stop = (row['end_lat'], row['end_lng'])\n",
    "    return great_circle(start, stop).km\n",
    "\n",
    "def pre_processing(df):\n",
    "    df.dropna(inplace=True)\n",
    "    df['start_end_id'] = df['start_station_id'] + '-' +df['end_station_id']\n",
    "    df = df[(df.duration >= 1) & (df.duration <= 60)]\n",
    "    df['distance'] = df.apply(lambda row: distance_calc (row),axis=1)\n",
    "    columns = ['ride_id','started_at','ended_at','start_station_name','end_station_name','start_station_id','end_station_id',\n",
    "               'start_lat','start_lng','end_lat','end_lng']\n",
    "    df.drop(columns=columns, inplace=True)\n",
    "    df.reset_index(drop=True, inplace=True)\n",
    "    return df\n",
    "\n",
    "df = pre_processing(df)"
   ]
  },
  {
   "cell_type": "code",
   "execution_count": 4,
   "metadata": {},
   "outputs": [],
   "source": [
    "def training_preparation(df):\n",
    "    categorical = ['rideable_type','member_casual','start_end_id']\n",
    "    numerical = ['distance']\n",
    "\n",
    "    X = df.drop(columns=['duration'])\n",
    "    y = df.duration\n",
    "\n",
    "    X_train, X_test, y_train, y_test = train_test_split(X, y, test_size=0.15, random_state=42)\n",
    "\n",
    "    dv = DictVectorizer()\n",
    "    train_dicts = X_train[categorical + numerical].to_dict(orient='records')\n",
    "    X_train = dv.fit_transform(train_dicts)\n",
    "    test_dicts = X_test[categorical + numerical].to_dict(orient='records')\n",
    "    X_test = dv.transform(test_dicts)\n",
    "\n",
    "    return X_train, X_test, y_train, y_test  \n",
    "\n",
    "X_train, X_test, y_train, y_test  = training_preparation(df)"
   ]
  },
  {
   "cell_type": "code",
   "execution_count": 5,
   "metadata": {},
   "outputs": [
    {
     "name": "stderr",
     "output_type": "stream",
     "text": [
      "2023/07/13 00:23:41 WARNING mlflow.utils.environment: Encountered an unexpected error while inferring pip requirements (model URI: /tmp/tmp4sphjdsq/model/model.pkl, flavor: sklearn), fall back to return ['scikit-learn==1.3.0', 'cloudpickle==2.2.1']. Set logging level to DEBUG to see the full traceback.\n"
     ]
    }
   ],
   "source": [
    "def train(X_train,y_train):\n",
    "    lr = Ridge(alpha=.5)\n",
    "    lr.fit(X_train, y_train)\n",
    "    return lr\n",
    "\n",
    "with mlflow.start_run():\n",
    "    model = train(X_train,y_train)\n",
    "    mlflow.sklearn.log_model(model, artifact_path='models')"
   ]
  },
  {
   "cell_type": "code",
   "execution_count": 6,
   "metadata": {},
   "outputs": [],
   "source": [
    "def calculate_mse(X_test,y_test):\n",
    "    y_pred = model.predict(X_test)\n",
    "    rmse = mean_squared_error(y_test, y_pred, squared=False)\n",
    "    return rmse\n",
    "\n",
    "with mlflow.start_run():\n",
    "    rmse = calculate_mse(X_test,y_test)\n",
    "    mlflow.log_metric(\"rmse\", rmse)"
   ]
  },
  {
   "cell_type": "markdown",
   "metadata": {},
   "source": [
    "agora é botar esse código em py rodar da linha de comando e verificar esse erro de versões acima do mlflow env"
   ]
  }
 ],
 "metadata": {
  "kernelspec": {
   "display_name": "mlops-zoomcamp-project-KWgVSs5o",
   "language": "python",
   "name": "python3"
  },
  "language_info": {
   "codemirror_mode": {
    "name": "ipython",
    "version": 3
   },
   "file_extension": ".py",
   "mimetype": "text/x-python",
   "name": "python",
   "nbconvert_exporter": "python",
   "pygments_lexer": "ipython3",
   "version": "3.10.6"
  },
  "orig_nbformat": 4
 },
 "nbformat": 4,
 "nbformat_minor": 2
}
