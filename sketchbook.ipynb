{
 "cells": [
  {
   "cell_type": "code",
   "execution_count": 2,
   "metadata": {},
   "outputs": [],
   "source": [
    "import s3fs\n",
    "import pandas as pd\n",
    "import mlflow\n",
    "import joblib\n",
    "from sklearn.feature_extraction import DictVectorizer\n",
    "from sklearn.model_selection import train_test_split\n",
    "from sklearn.linear_model import Ridge\n",
    "from sklearn.metrics import mean_squared_error\n",
    "\n",
    "df = pd.read_parquet('s3://chicago-bike-trips/dataset.parquet')"
   ]
  },
  {
   "cell_type": "code",
   "execution_count": 11,
   "metadata": {},
   "outputs": [
    {
     "data": {
      "text/html": [
       "<div>\n",
       "<style scoped>\n",
       "    .dataframe tbody tr th:only-of-type {\n",
       "        vertical-align: middle;\n",
       "    }\n",
       "\n",
       "    .dataframe tbody tr th {\n",
       "        vertical-align: top;\n",
       "    }\n",
       "\n",
       "    .dataframe thead th {\n",
       "        text-align: right;\n",
       "    }\n",
       "</style>\n",
       "<table border=\"1\" class=\"dataframe\">\n",
       "  <thead>\n",
       "    <tr style=\"text-align: right;\">\n",
       "      <th></th>\n",
       "      <th>ride_id</th>\n",
       "      <th>rideable_type</th>\n",
       "      <th>started_at</th>\n",
       "      <th>ended_at</th>\n",
       "      <th>start_station_name</th>\n",
       "      <th>start_station_id</th>\n",
       "      <th>end_station_name</th>\n",
       "      <th>end_station_id</th>\n",
       "      <th>start_lat</th>\n",
       "      <th>start_lng</th>\n",
       "      <th>end_lat</th>\n",
       "      <th>end_lng</th>\n",
       "      <th>member_casual</th>\n",
       "      <th>duration</th>\n",
       "    </tr>\n",
       "  </thead>\n",
       "  <tbody>\n",
       "    <tr>\n",
       "      <th>0</th>\n",
       "      <td>3564070EEFD12711</td>\n",
       "      <td>electric_bike</td>\n",
       "      <td>2022-04-06 17:42:48</td>\n",
       "      <td>2022-04-06 17:54:36</td>\n",
       "      <td>Paulina St &amp; Howard St</td>\n",
       "      <td>515</td>\n",
       "      <td>University Library (NU)</td>\n",
       "      <td>605</td>\n",
       "      <td>42.019135</td>\n",
       "      <td>-87.673532</td>\n",
       "      <td>42.052939</td>\n",
       "      <td>-87.673447</td>\n",
       "      <td>member</td>\n",
       "      <td>11.800000</td>\n",
       "    </tr>\n",
       "    <tr>\n",
       "      <th>1</th>\n",
       "      <td>0B820C7FCF22F489</td>\n",
       "      <td>classic_bike</td>\n",
       "      <td>2022-04-24 19:23:07</td>\n",
       "      <td>2022-04-24 19:43:17</td>\n",
       "      <td>Wentworth Ave &amp; Cermak Rd</td>\n",
       "      <td>13075</td>\n",
       "      <td>Green St &amp; Madison St</td>\n",
       "      <td>TA1307000120</td>\n",
       "      <td>41.853085</td>\n",
       "      <td>-87.631931</td>\n",
       "      <td>41.881892</td>\n",
       "      <td>-87.648789</td>\n",
       "      <td>member</td>\n",
       "      <td>20.166667</td>\n",
       "    </tr>\n",
       "    <tr>\n",
       "      <th>2</th>\n",
       "      <td>89EEEE32293F07FF</td>\n",
       "      <td>classic_bike</td>\n",
       "      <td>2022-04-20 19:29:08</td>\n",
       "      <td>2022-04-20 19:35:16</td>\n",
       "      <td>Halsted St &amp; Polk St</td>\n",
       "      <td>TA1307000121</td>\n",
       "      <td>Green St &amp; Madison St</td>\n",
       "      <td>TA1307000120</td>\n",
       "      <td>41.871840</td>\n",
       "      <td>-87.646640</td>\n",
       "      <td>41.881892</td>\n",
       "      <td>-87.648789</td>\n",
       "      <td>member</td>\n",
       "      <td>6.133333</td>\n",
       "    </tr>\n",
       "    <tr>\n",
       "      <th>3</th>\n",
       "      <td>84D4751AEB31888D</td>\n",
       "      <td>classic_bike</td>\n",
       "      <td>2022-04-22 21:14:06</td>\n",
       "      <td>2022-04-22 21:23:29</td>\n",
       "      <td>Wentworth Ave &amp; Cermak Rd</td>\n",
       "      <td>13075</td>\n",
       "      <td>Delano Ct &amp; Roosevelt Rd</td>\n",
       "      <td>KA1706005007</td>\n",
       "      <td>41.853085</td>\n",
       "      <td>-87.631931</td>\n",
       "      <td>41.867491</td>\n",
       "      <td>-87.632190</td>\n",
       "      <td>casual</td>\n",
       "      <td>9.383333</td>\n",
       "    </tr>\n",
       "    <tr>\n",
       "      <th>4</th>\n",
       "      <td>5664BCF0D1DE7A8B</td>\n",
       "      <td>electric_bike</td>\n",
       "      <td>2022-04-16 15:56:30</td>\n",
       "      <td>2022-04-16 16:02:11</td>\n",
       "      <td>Halsted St &amp; Polk St</td>\n",
       "      <td>TA1307000121</td>\n",
       "      <td>Clinton St &amp; Madison St</td>\n",
       "      <td>TA1305000032</td>\n",
       "      <td>41.871808</td>\n",
       "      <td>-87.646574</td>\n",
       "      <td>41.882242</td>\n",
       "      <td>-87.641066</td>\n",
       "      <td>member</td>\n",
       "      <td>5.683333</td>\n",
       "    </tr>\n",
       "    <tr>\n",
       "      <th>...</th>\n",
       "      <td>...</td>\n",
       "      <td>...</td>\n",
       "      <td>...</td>\n",
       "      <td>...</td>\n",
       "      <td>...</td>\n",
       "      <td>...</td>\n",
       "      <td>...</td>\n",
       "      <td>...</td>\n",
       "      <td>...</td>\n",
       "      <td>...</td>\n",
       "      <td>...</td>\n",
       "      <td>...</td>\n",
       "      <td>...</td>\n",
       "      <td>...</td>\n",
       "    </tr>\n",
       "    <tr>\n",
       "      <th>634853</th>\n",
       "      <td>8891BA0053ECEC4F</td>\n",
       "      <td>electric_bike</td>\n",
       "      <td>2022-05-27 22:00:02</td>\n",
       "      <td>2022-05-27 22:07:01</td>\n",
       "      <td>Clark St &amp; Newport St</td>\n",
       "      <td>632</td>\n",
       "      <td>None</td>\n",
       "      <td>None</td>\n",
       "      <td>41.944557</td>\n",
       "      <td>-87.654830</td>\n",
       "      <td>41.920000</td>\n",
       "      <td>-87.650000</td>\n",
       "      <td>member</td>\n",
       "      <td>6.983333</td>\n",
       "    </tr>\n",
       "    <tr>\n",
       "      <th>634854</th>\n",
       "      <td>47D8B5FBCADECFC1</td>\n",
       "      <td>electric_bike</td>\n",
       "      <td>2022-05-15 16:05:39</td>\n",
       "      <td>2022-05-15 16:44:12</td>\n",
       "      <td>Clark St &amp; Newport St</td>\n",
       "      <td>632</td>\n",
       "      <td>None</td>\n",
       "      <td>None</td>\n",
       "      <td>41.944479</td>\n",
       "      <td>-87.654758</td>\n",
       "      <td>41.920000</td>\n",
       "      <td>-87.760000</td>\n",
       "      <td>member</td>\n",
       "      <td>38.550000</td>\n",
       "    </tr>\n",
       "    <tr>\n",
       "      <th>634855</th>\n",
       "      <td>AA8D16CF38B40703</td>\n",
       "      <td>electric_bike</td>\n",
       "      <td>2022-05-21 10:10:13</td>\n",
       "      <td>2022-05-21 10:26:09</td>\n",
       "      <td>Francisco Ave &amp; Bloomingdale Ave</td>\n",
       "      <td>429</td>\n",
       "      <td>None</td>\n",
       "      <td>None</td>\n",
       "      <td>41.910000</td>\n",
       "      <td>-87.700000</td>\n",
       "      <td>41.920000</td>\n",
       "      <td>-87.660000</td>\n",
       "      <td>casual</td>\n",
       "      <td>15.933333</td>\n",
       "    </tr>\n",
       "    <tr>\n",
       "      <th>634856</th>\n",
       "      <td>897EBFD44F329E0A</td>\n",
       "      <td>electric_bike</td>\n",
       "      <td>2022-05-12 07:53:58</td>\n",
       "      <td>2022-05-12 08:01:18</td>\n",
       "      <td>Francisco Ave &amp; Bloomingdale Ave</td>\n",
       "      <td>429</td>\n",
       "      <td>None</td>\n",
       "      <td>None</td>\n",
       "      <td>41.910000</td>\n",
       "      <td>-87.700000</td>\n",
       "      <td>41.900000</td>\n",
       "      <td>-87.690000</td>\n",
       "      <td>member</td>\n",
       "      <td>7.333333</td>\n",
       "    </tr>\n",
       "    <tr>\n",
       "      <th>634857</th>\n",
       "      <td>AAC23AB89E8A7733</td>\n",
       "      <td>electric_bike</td>\n",
       "      <td>2022-05-11 21:14:28</td>\n",
       "      <td>2022-05-11 21:18:16</td>\n",
       "      <td>Clark St &amp; Newport St</td>\n",
       "      <td>632</td>\n",
       "      <td>None</td>\n",
       "      <td>None</td>\n",
       "      <td>41.944567</td>\n",
       "      <td>-87.654802</td>\n",
       "      <td>41.940000</td>\n",
       "      <td>-87.650000</td>\n",
       "      <td>member</td>\n",
       "      <td>3.800000</td>\n",
       "    </tr>\n",
       "  </tbody>\n",
       "</table>\n",
       "<p>5803720 rows × 14 columns</p>\n",
       "</div>"
      ],
      "text/plain": [
       "                 ride_id  rideable_type          started_at  \\\n",
       "0       3564070EEFD12711  electric_bike 2022-04-06 17:42:48   \n",
       "1       0B820C7FCF22F489   classic_bike 2022-04-24 19:23:07   \n",
       "2       89EEEE32293F07FF   classic_bike 2022-04-20 19:29:08   \n",
       "3       84D4751AEB31888D   classic_bike 2022-04-22 21:14:06   \n",
       "4       5664BCF0D1DE7A8B  electric_bike 2022-04-16 15:56:30   \n",
       "...                  ...            ...                 ...   \n",
       "634853  8891BA0053ECEC4F  electric_bike 2022-05-27 22:00:02   \n",
       "634854  47D8B5FBCADECFC1  electric_bike 2022-05-15 16:05:39   \n",
       "634855  AA8D16CF38B40703  electric_bike 2022-05-21 10:10:13   \n",
       "634856  897EBFD44F329E0A  electric_bike 2022-05-12 07:53:58   \n",
       "634857  AAC23AB89E8A7733  electric_bike 2022-05-11 21:14:28   \n",
       "\n",
       "                  ended_at                start_station_name start_station_id  \\\n",
       "0      2022-04-06 17:54:36            Paulina St & Howard St              515   \n",
       "1      2022-04-24 19:43:17         Wentworth Ave & Cermak Rd            13075   \n",
       "2      2022-04-20 19:35:16              Halsted St & Polk St     TA1307000121   \n",
       "3      2022-04-22 21:23:29         Wentworth Ave & Cermak Rd            13075   \n",
       "4      2022-04-16 16:02:11              Halsted St & Polk St     TA1307000121   \n",
       "...                    ...                               ...              ...   \n",
       "634853 2022-05-27 22:07:01             Clark St & Newport St              632   \n",
       "634854 2022-05-15 16:44:12             Clark St & Newport St              632   \n",
       "634855 2022-05-21 10:26:09  Francisco Ave & Bloomingdale Ave              429   \n",
       "634856 2022-05-12 08:01:18  Francisco Ave & Bloomingdale Ave              429   \n",
       "634857 2022-05-11 21:18:16             Clark St & Newport St              632   \n",
       "\n",
       "                end_station_name end_station_id  start_lat  start_lng  \\\n",
       "0        University Library (NU)            605  42.019135 -87.673532   \n",
       "1          Green St & Madison St   TA1307000120  41.853085 -87.631931   \n",
       "2          Green St & Madison St   TA1307000120  41.871840 -87.646640   \n",
       "3       Delano Ct & Roosevelt Rd   KA1706005007  41.853085 -87.631931   \n",
       "4        Clinton St & Madison St   TA1305000032  41.871808 -87.646574   \n",
       "...                          ...            ...        ...        ...   \n",
       "634853                      None           None  41.944557 -87.654830   \n",
       "634854                      None           None  41.944479 -87.654758   \n",
       "634855                      None           None  41.910000 -87.700000   \n",
       "634856                      None           None  41.910000 -87.700000   \n",
       "634857                      None           None  41.944567 -87.654802   \n",
       "\n",
       "          end_lat    end_lng member_casual   duration  \n",
       "0       42.052939 -87.673447        member  11.800000  \n",
       "1       41.881892 -87.648789        member  20.166667  \n",
       "2       41.881892 -87.648789        member   6.133333  \n",
       "3       41.867491 -87.632190        casual   9.383333  \n",
       "4       41.882242 -87.641066        member   5.683333  \n",
       "...           ...        ...           ...        ...  \n",
       "634853  41.920000 -87.650000        member   6.983333  \n",
       "634854  41.920000 -87.760000        member  38.550000  \n",
       "634855  41.920000 -87.660000        casual  15.933333  \n",
       "634856  41.900000 -87.690000        member   7.333333  \n",
       "634857  41.940000 -87.650000        member   3.800000  \n",
       "\n",
       "[5803720 rows x 14 columns]"
      ]
     },
     "execution_count": 11,
     "metadata": {},
     "output_type": "execute_result"
    }
   ],
   "source": [
    "df"
   ]
  },
  {
   "cell_type": "code",
   "execution_count": 2,
   "metadata": {},
   "outputs": [
    {
     "name": "stderr",
     "output_type": "stream",
     "text": [
      "2023/07/13 00:17:23 INFO mlflow.tracking.fluent: Experiment with name 'chicago-bike-share' does not exist. Creating a new experiment.\n"
     ]
    },
    {
     "data": {
      "text/plain": [
       "<Experiment: artifact_location='s3://mlflow-models-bruno/1', creation_time=1689207443833, experiment_id='1', last_update_time=1689207443833, lifecycle_stage='active', name='chicago-bike-share', tags={}>"
      ]
     },
     "execution_count": 2,
     "metadata": {},
     "output_type": "execute_result"
    }
   ],
   "source": [
    "TRACKING_SERVER_HOST = \"ec2-18-117-176-70.us-east-2.compute.amazonaws.com\" #change if ec2 instance is reinitiated\n",
    "mlflow.set_tracking_uri(f\"http://{TRACKING_SERVER_HOST}:5000\")\n",
    "mlflow.set_experiment(\"chicago-bike-share\")"
   ]
  },
  {
   "cell_type": "code",
   "execution_count": 3,
   "metadata": {},
   "outputs": [
    {
     "name": "stderr",
     "output_type": "stream",
     "text": [
      "/tmp/ipykernel_10352/1026509609.py:10: SettingWithCopyWarning: \n",
      "A value is trying to be set on a copy of a slice from a DataFrame.\n",
      "Try using .loc[row_indexer,col_indexer] = value instead\n",
      "\n",
      "See the caveats in the documentation: https://pandas.pydata.org/pandas-docs/stable/user_guide/indexing.html#returning-a-view-versus-a-copy\n",
      "  df['distance'] = df.apply(lambda row: distance_calc (row),axis=1)\n",
      "/tmp/ipykernel_10352/1026509609.py:13: SettingWithCopyWarning: \n",
      "A value is trying to be set on a copy of a slice from a DataFrame\n",
      "\n",
      "See the caveats in the documentation: https://pandas.pydata.org/pandas-docs/stable/user_guide/indexing.html#returning-a-view-versus-a-copy\n",
      "  df.drop(columns=columns, inplace=True)\n"
     ]
    }
   ],
   "source": [
    "def distance_calc (row):\n",
    "    start = (row['start_lat'], row['start_lng'])\n",
    "    stop = (row['end_lat'], row['end_lng'])\n",
    "    return great_circle(start, stop).km\n",
    "\n",
    "def pre_processing(df):\n",
    "    df.dropna(inplace=True)\n",
    "    df['start_end_id'] = df['start_station_id'] + '-' +df['end_station_id']\n",
    "    df = df[(df.duration >= 1) & (df.duration <= 60)]\n",
    "    df['distance'] = df.apply(lambda row: distance_calc (row),axis=1)\n",
    "    columns = ['ride_id','started_at','ended_at','start_station_name','end_station_name','start_station_id','end_station_id',\n",
    "               'start_lat','start_lng','end_lat','end_lng']\n",
    "    df.drop(columns=columns, inplace=True)\n",
    "    df.reset_index(drop=True, inplace=True)\n",
    "    return df\n",
    "\n",
    "df = pre_processing(df)"
   ]
  },
  {
   "cell_type": "code",
   "execution_count": 4,
   "metadata": {},
   "outputs": [],
   "source": [
    "def training_preparation(df):\n",
    "    categorical = ['rideable_type','member_casual','start_end_id']\n",
    "    numerical = ['distance']\n",
    "\n",
    "    X = df.drop(columns=['duration'])\n",
    "    y = df.duration\n",
    "\n",
    "    X_train, X_test, y_train, y_test = train_test_split(X, y, test_size=0.15, random_state=42)\n",
    "\n",
    "    dv = DictVectorizer()\n",
    "    train_dicts = X_train[categorical + numerical].to_dict(orient='records')\n",
    "    X_train = dv.fit_transform(train_dicts)\n",
    "    test_dicts = X_test[categorical + numerical].to_dict(orient='records')\n",
    "    X_test = dv.transform(test_dicts)\n",
    "\n",
    "    return X_train, X_test, y_train, y_test  \n",
    "\n",
    "X_train, X_test, y_train, y_test  = training_preparation(df)"
   ]
  },
  {
   "cell_type": "code",
   "execution_count": 5,
   "metadata": {},
   "outputs": [
    {
     "name": "stderr",
     "output_type": "stream",
     "text": [
      "2023/07/13 00:23:41 WARNING mlflow.utils.environment: Encountered an unexpected error while inferring pip requirements (model URI: /tmp/tmp4sphjdsq/model/model.pkl, flavor: sklearn), fall back to return ['scikit-learn==1.3.0', 'cloudpickle==2.2.1']. Set logging level to DEBUG to see the full traceback.\n"
     ]
    }
   ],
   "source": [
    "def train(X_train,y_train):\n",
    "    lr = Ridge(alpha=.5)\n",
    "    lr.fit(X_train, y_train)\n",
    "    return lr\n",
    "\n",
    "with mlflow.start_run():\n",
    "    model = train(X_train,y_train)\n",
    "    mlflow.sklearn.log_model(model, artifact_path='models')"
   ]
  },
  {
   "cell_type": "code",
   "execution_count": 6,
   "metadata": {},
   "outputs": [],
   "source": [
    "def calculate_mse(X_test,y_test):\n",
    "    y_pred = model.predict(X_test)\n",
    "    rmse = mean_squared_error(y_test, y_pred, squared=False)\n",
    "    return rmse\n",
    "\n",
    "with mlflow.start_run():\n",
    "    rmse = calculate_mse(X_test,y_test)\n",
    "    mlflow.log_metric(\"rmse\", rmse)"
   ]
  },
  {
   "cell_type": "markdown",
   "metadata": {},
   "source": [
    "agora é botar esse código em py rodar da linha de comando e verificar esse erro de versões acima do mlflow env"
   ]
  },
  {
   "cell_type": "code",
   "execution_count": 1,
   "metadata": {},
   "outputs": [],
   "source": [
    "import mlflow\n",
    "import pickle\n",
    "logged_model = 's3://mlflow-models-bruno/1/eff4f74e811840319846bd6f73cc3d73/artifacts/model'\n",
    "model = mlflow.pyfunc.load_model(logged_model)"
   ]
  },
  {
   "cell_type": "code",
   "execution_count": 2,
   "metadata": {},
   "outputs": [
    {
     "name": "stderr",
     "output_type": "stream",
     "text": [
      "/home/ubuntu/.local/share/virtualenvs/mlops-zoomcamp-project-KWgVSs5o/lib/python3.10/site-packages/sklearn/base.py:347: InconsistentVersionWarning: Trying to unpickle estimator DictVectorizer from version 1.0.2 when using version 1.3.0. This might lead to breaking code or invalid results. Use at your own risk. For more info please refer to:\n",
      "https://scikit-learn.org/stable/model_persistence.html#security-maintainability-limitations\n",
      "  warnings.warn(\n"
     ]
    }
   ],
   "source": [
    "with open ('models/preprocessor.b', 'rb') as file:\n",
    "    dv = pickle.load(file)"
   ]
  },
  {
   "cell_type": "code",
   "execution_count": 3,
   "metadata": {},
   "outputs": [
    {
     "data": {
      "text/html": [
       "<style>#sk-container-id-1 {color: black;}#sk-container-id-1 pre{padding: 0;}#sk-container-id-1 div.sk-toggleable {background-color: white;}#sk-container-id-1 label.sk-toggleable__label {cursor: pointer;display: block;width: 100%;margin-bottom: 0;padding: 0.3em;box-sizing: border-box;text-align: center;}#sk-container-id-1 label.sk-toggleable__label-arrow:before {content: \"▸\";float: left;margin-right: 0.25em;color: #696969;}#sk-container-id-1 label.sk-toggleable__label-arrow:hover:before {color: black;}#sk-container-id-1 div.sk-estimator:hover label.sk-toggleable__label-arrow:before {color: black;}#sk-container-id-1 div.sk-toggleable__content {max-height: 0;max-width: 0;overflow: hidden;text-align: left;background-color: #f0f8ff;}#sk-container-id-1 div.sk-toggleable__content pre {margin: 0.2em;color: black;border-radius: 0.25em;background-color: #f0f8ff;}#sk-container-id-1 input.sk-toggleable__control:checked~div.sk-toggleable__content {max-height: 200px;max-width: 100%;overflow: auto;}#sk-container-id-1 input.sk-toggleable__control:checked~label.sk-toggleable__label-arrow:before {content: \"▾\";}#sk-container-id-1 div.sk-estimator input.sk-toggleable__control:checked~label.sk-toggleable__label {background-color: #d4ebff;}#sk-container-id-1 div.sk-label input.sk-toggleable__control:checked~label.sk-toggleable__label {background-color: #d4ebff;}#sk-container-id-1 input.sk-hidden--visually {border: 0;clip: rect(1px 1px 1px 1px);clip: rect(1px, 1px, 1px, 1px);height: 1px;margin: -1px;overflow: hidden;padding: 0;position: absolute;width: 1px;}#sk-container-id-1 div.sk-estimator {font-family: monospace;background-color: #f0f8ff;border: 1px dotted black;border-radius: 0.25em;box-sizing: border-box;margin-bottom: 0.5em;}#sk-container-id-1 div.sk-estimator:hover {background-color: #d4ebff;}#sk-container-id-1 div.sk-parallel-item::after {content: \"\";width: 100%;border-bottom: 1px solid gray;flex-grow: 1;}#sk-container-id-1 div.sk-label:hover label.sk-toggleable__label {background-color: #d4ebff;}#sk-container-id-1 div.sk-serial::before {content: \"\";position: absolute;border-left: 1px solid gray;box-sizing: border-box;top: 0;bottom: 0;left: 50%;z-index: 0;}#sk-container-id-1 div.sk-serial {display: flex;flex-direction: column;align-items: center;background-color: white;padding-right: 0.2em;padding-left: 0.2em;position: relative;}#sk-container-id-1 div.sk-item {position: relative;z-index: 1;}#sk-container-id-1 div.sk-parallel {display: flex;align-items: stretch;justify-content: center;background-color: white;position: relative;}#sk-container-id-1 div.sk-item::before, #sk-container-id-1 div.sk-parallel-item::before {content: \"\";position: absolute;border-left: 1px solid gray;box-sizing: border-box;top: 0;bottom: 0;left: 50%;z-index: -1;}#sk-container-id-1 div.sk-parallel-item {display: flex;flex-direction: column;z-index: 1;position: relative;background-color: white;}#sk-container-id-1 div.sk-parallel-item:first-child::after {align-self: flex-end;width: 50%;}#sk-container-id-1 div.sk-parallel-item:last-child::after {align-self: flex-start;width: 50%;}#sk-container-id-1 div.sk-parallel-item:only-child::after {width: 0;}#sk-container-id-1 div.sk-dashed-wrapped {border: 1px dashed gray;margin: 0 0.4em 0.5em 0.4em;box-sizing: border-box;padding-bottom: 0.4em;background-color: white;}#sk-container-id-1 div.sk-label label {font-family: monospace;font-weight: bold;display: inline-block;line-height: 1.2em;}#sk-container-id-1 div.sk-label-container {text-align: center;}#sk-container-id-1 div.sk-container {/* jupyter's `normalize.less` sets `[hidden] { display: none; }` but bootstrap.min.css set `[hidden] { display: none !important; }` so we also need the `!important` here to be able to override the default hidden behavior on the sphinx rendered scikit-learn.org. See: https://github.com/scikit-learn/scikit-learn/issues/21755 */display: inline-block !important;position: relative;}#sk-container-id-1 div.sk-text-repr-fallback {display: none;}</style><div id=\"sk-container-id-1\" class=\"sk-top-container\"><div class=\"sk-text-repr-fallback\"><pre>DictVectorizer()</pre><b>In a Jupyter environment, please rerun this cell to show the HTML representation or trust the notebook. <br />On GitHub, the HTML representation is unable to render, please try loading this page with nbviewer.org.</b></div><div class=\"sk-container\" hidden><div class=\"sk-item\"><div class=\"sk-estimator sk-toggleable\"><input class=\"sk-toggleable__control sk-hidden--visually\" id=\"sk-estimator-id-1\" type=\"checkbox\" checked><label for=\"sk-estimator-id-1\" class=\"sk-toggleable__label sk-toggleable__label-arrow\">DictVectorizer</label><div class=\"sk-toggleable__content\"><pre>DictVectorizer()</pre></div></div></div></div></div>"
      ],
      "text/plain": [
       "DictVectorizer()"
      ]
     },
     "execution_count": 3,
     "metadata": {},
     "output_type": "execute_result"
    }
   ],
   "source": [
    "dv"
   ]
  },
  {
   "cell_type": "code",
   "execution_count": 37,
   "metadata": {},
   "outputs": [],
   "source": [
    "ride = {'start_station_id' : 'KA1706005007', 'end_station_id' : 'TA1305000032', 'rideable_type':'eletric_bike','member_casual': 'member' }"
   ]
  },
  {
   "cell_type": "code",
   "execution_count": 13,
   "metadata": {},
   "outputs": [],
   "source": [
    "def prepare_features(bike_ride):\n",
    "    features = {}\n",
    "    features['start_end_id'] = bike_ride['start_station_id'] + '-' +bike_ride['end_station_id']\n",
    "    features['rideable_type'] = bike_ride['rideable_type']\n",
    "    features['member_casual'] = bike_ride['member_casual']\n",
    "    return features"
   ]
  },
  {
   "cell_type": "code",
   "execution_count": 38,
   "metadata": {},
   "outputs": [],
   "source": [
    "features = prepare_features(ride)"
   ]
  },
  {
   "cell_type": "code",
   "execution_count": 19,
   "metadata": {},
   "outputs": [],
   "source": [
    "def predict(features):\n",
    "    \n",
    "    X = dv.transform(features)\n",
    "    preds = model.predict(X)\n",
    "    return float(preds[0])\n"
   ]
  },
  {
   "cell_type": "code",
   "execution_count": 39,
   "metadata": {},
   "outputs": [
    {
     "data": {
      "text/plain": [
       "14.990719661071937"
      ]
     },
     "execution_count": 39,
     "metadata": {},
     "output_type": "execute_result"
    }
   ],
   "source": [
    "predict(features)"
   ]
  },
  {
   "cell_type": "code",
   "execution_count": 40,
   "metadata": {},
   "outputs": [],
   "source": [
    "ride = {'start_station_id' : 'KA1706005007', 'end_station_id' : 'TA1305000032', 'rideable_type':'eletric_bike','member_casual': 'member' }"
   ]
  },
  {
   "cell_type": "code",
   "execution_count": 41,
   "metadata": {},
   "outputs": [
    {
     "name": "stdout",
     "output_type": "stream",
     "text": [
      "{'duration': 14.823610703362052}\n"
     ]
    }
   ],
   "source": [
    "import requests\n",
    "url = 'http://localhost:9696/predict'\n",
    "print(requests.post(url,json=ride).json())"
   ]
  }
 ],
 "metadata": {
  "kernelspec": {
   "display_name": "mlops-zoomcamp-project-KWgVSs5o",
   "language": "python",
   "name": "python3"
  },
  "language_info": {
   "codemirror_mode": {
    "name": "ipython",
    "version": 3
   },
   "file_extension": ".py",
   "mimetype": "text/x-python",
   "name": "python",
   "nbconvert_exporter": "python",
   "pygments_lexer": "ipython3",
   "version": "3.10.6"
  },
  "orig_nbformat": 4
 },
 "nbformat": 4,
 "nbformat_minor": 2
}
